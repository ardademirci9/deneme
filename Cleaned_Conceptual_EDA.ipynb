{
 "cells": [
  {
   "cell_type": "markdown",
   "id": "ff915c49",
   "metadata": {},
   "source": [
    "# Obesity, Mental Health, and Personality Traits Analysis\n",
    "This notebook analyzes the relationship between obesity, mental health indicators, gender, and personality traits. The analysis includes exploratory data analysis (EDA), statistical hypothesis testing, and result interpretation."
   ]
  },
  {
   "cell_type": "markdown",
   "id": "49ee8567",
   "metadata": {},
   "source": [
    "## Load Data and Libraries"
   ]
  },
  {
   "cell_type": "code",
   "execution_count": null,
   "id": "1cebf336",
   "metadata": {},
   "outputs": [],
   "source": [
    "import pandas as pd\n",
    "import matplotlib.pyplot as plt\n",
    "import seaborn as sns\n",
    "from scipy.stats import ttest_ind, chi2_contingency\n",
    "from sklearn.preprocessing import LabelEncoder\n",
    "from sklearn.model_selection import train_test_split\n",
    "from sklearn.linear_model import LogisticRegression\n",
    "from sklearn.metrics import classification_report\n",
    "\n",
    "sns.set(style=\"whitegrid\")\n",
    "\n",
    "mh = pd.read_csv(\"/mnt/data/cleaned_mental_health.csv\")\n",
    "drug = pd.read_csv(\"/mnt/data/cleaned_drug.csv\")\n",
    "obesity = pd.read_csv(\"/mnt/data/cleaned_obesity.csv\")"
   ]
  },
  {
   "cell_type": "markdown",
   "id": "1a57124c",
   "metadata": {},
   "source": [
    "## Gender and Obesity Prevalence"
   ]
  },
  {
   "cell_type": "code",
   "execution_count": null,
   "id": "48841437",
   "metadata": {},
   "outputs": [],
   "source": [
    "gender_obesity = obesity[obesity['Gender'].isin(['Male', 'Female'])]\n",
    "male = gender_obesity[gender_obesity['Gender'] == 'Male']['ObesityRate']\n",
    "female = gender_obesity[gender_obesity['Gender'] == 'Female']['ObesityRate']\n",
    "t_stat, p_val = ttest_ind(male, female)\n",
    "print(\"T-test Statistic:\", t_stat)\n",
    "print(\"P-value:\", p_val)\n",
    "if p_val < 0.05:\n",
    "    print(\"Reject the null hypothesis: Significant difference between genders.\")\n",
    "else:\n",
    "    print(\"Fail to reject the null hypothesis: No significant gender difference.\")"
   ]
  },
  {
   "cell_type": "code",
   "execution_count": null,
   "id": "c6eb665b",
   "metadata": {},
   "outputs": [],
   "source": [
    "plt.figure(figsize=(6, 4))\n",
    "sns.boxplot(data=gender_obesity, x='Gender', y='ObesityRate', palette='Set2')\n",
    "plt.title(\"Obesity Rate by Gender\")\n",
    "plt.tight_layout()\n",
    "plt.show()"
   ]
  },
  {
   "cell_type": "markdown",
   "id": "de6acc22",
   "metadata": {},
   "source": [
    "## Growing Stress Levels by Gender"
   ]
  },
  {
   "cell_type": "code",
   "execution_count": null,
   "id": "5072fee0",
   "metadata": {},
   "outputs": [],
   "source": [
    "plt.figure(figsize=(6, 4))\n",
    "sns.countplot(data=mh, x='Gender', hue='Growing_Stress', palette='pastel')\n",
    "plt.title(\"Growing Stress by Gender\")\n",
    "plt.tight_layout()\n",
    "plt.show()"
   ]
  },
  {
   "cell_type": "markdown",
   "id": "7cc77274",
   "metadata": {},
   "source": [
    "## Personality Traits and Mental Health Treatment"
   ]
  },
  {
   "cell_type": "code",
   "execution_count": null,
   "id": "7a13537c",
   "metadata": {},
   "outputs": [],
   "source": [
    "df = mh.copy()\n",
    "df = df[df['treatment'].isin(['Yes', 'No'])].copy()\n",
    "df['treatment'] = df['treatment'].map({'Yes': 1, 'No': 0})\n",
    "le = LabelEncoder()\n",
    "df['Gender'] = le.fit_transform(df['Gender'])\n",
    "\n",
    "# Merge with personality traits from drug data\n",
    "df_drug = drug.copy()\n",
    "df_drug = df_drug[['Nscore', 'Escore', 'Oscore', 'AScore', 'Cscore', 'Impulsive', 'SS']].reset_index(drop=True)\n",
    "df = df.reset_index(drop=True).join(df_drug)\n",
    "\n",
    "X = df[['Nscore', 'Escore', 'Oscore', 'AScore', 'Cscore', 'Impulsive', 'SS']]\n",
    "y = df['treatment']\n",
    "\n",
    "X_train, X_test, y_train, y_test = train_test_split(X, y, test_size=0.3, random_state=42)\n",
    "\n",
    "model = LogisticRegression(max_iter=1000)\n",
    "model.fit(X_train, y_train)\n",
    "y_pred = model.predict(X_test)\n",
    "\n",
    "print(classification_report(y_test, y_pred))"
   ]
  },
  {
   "cell_type": "markdown",
   "id": "789c5b85",
   "metadata": {},
   "source": [
    "## Conclusion\n",
    "- Gender does not significantly affect obesity rates based on t-test.\n",
    "- Stress appears to be more frequently reported among women.\n",
    "- Personality traits contribute moderately to predicting mental health treatment.\n",
    "Further analysis can incorporate multi-variable interactions for deeper insights."
   ]
  }
 ],
 "metadata": {},
 "nbformat": 4,
 "nbformat_minor": 5
}
