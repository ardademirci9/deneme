{
 "cells": [
  {
   "cell_type": "markdown",
   "id": "7f4b36be",
   "metadata": {},
   "source": [
    "# Obesity & Mental Health Analysis\n",
    "**Hypothesis:** Individuals experiencing higher levels of stress or mental health challenges are more likely to have higher obesity prevalence.\n",
    "This notebook explores the connection between mental health attributes (e.g., stress, coping) and country-level obesity rates."
   ]
  },
  {
   "cell_type": "markdown",
   "id": "f03906c0",
   "metadata": {},
   "source": [
    "## Load Libraries and Datasets"
   ]
  },
  {
   "cell_type": "code",
   "execution_count": null,
   "id": "52b9f831",
   "metadata": {},
   "outputs": [],
   "source": [
    "import pandas as pd\n",
    "import matplotlib.pyplot as plt\n",
    "import seaborn as sns\n",
    "from scipy.stats import ttest_ind, chi2_contingency\n",
    "\n",
    "sns.set(style='whitegrid')\n",
    "\n",
    "obesity = pd.read_csv(\"/mnt/data/obesity_clean.csv\")\n",
    "mental = pd.read_csv(\"/mnt/data/mental_clean.csv\")\n",
    "drug = pd.read_csv(\"/mnt/data/drug_clean.csv\")\n"
   ]
  },
  {
   "cell_type": "markdown",
   "id": "6d694e5a",
   "metadata": {},
   "source": [
    "## Obesity Rate by Gender"
   ]
  },
  {
   "cell_type": "code",
   "execution_count": null,
   "id": "76fffd71",
   "metadata": {},
   "outputs": [],
   "source": [
    "plt.figure(figsize=(6,4))\n",
    "sns.boxplot(data=obesity, x='Gender', y='ObesityRate', palette='Set2')\n",
    "plt.title(\"Obesity Rate by Gender\")\n",
    "plt.tight_layout()\n",
    "plt.show()\n",
    "\n",
    "male = obesity[obesity['Gender'] == 'Male']['ObesityRate']\n",
    "female = obesity[obesity['Gender'] == 'Female']['ObesityRate']\n",
    "t_stat, p_val = ttest_ind(male, female)\n",
    "print(\"T-test statistic:\", t_stat)\n",
    "print(\"p-value:\", p_val)"
   ]
  },
  {
   "cell_type": "markdown",
   "id": "b449a9e4",
   "metadata": {},
   "source": [
    "## Growing Stress Distribution by Gender"
   ]
  },
  {
   "cell_type": "code",
   "execution_count": null,
   "id": "33597992",
   "metadata": {},
   "outputs": [],
   "source": [
    "plt.figure(figsize=(6,4))\n",
    "sns.countplot(data=mental, x='Gender', hue='Growing_Stress', palette='pastel')\n",
    "plt.title(\"Growing Stress by Gender\")\n",
    "plt.tight_layout()\n",
    "plt.show()"
   ]
  },
  {
   "cell_type": "markdown",
   "id": "a247c15c",
   "metadata": {},
   "source": [
    "## Country-Level Obesity Rate vs Stressful Population"
   ]
  },
  {
   "cell_type": "code",
   "execution_count": null,
   "id": "687949dd",
   "metadata": {},
   "outputs": [],
   "source": [
    "# Aggregate mental data: % of people with stress per country\n",
    "stress_country = mental[mental['Growing_Stress'] == 'Yes'].groupby('Country').size()\n",
    "total_country = mental.groupby('Country').size()\n",
    "stress_ratio = (stress_country / total_country).dropna().reset_index()\n",
    "stress_ratio.columns = ['Country', 'StressRate']\n",
    "\n",
    "# Average obesity per country\n",
    "obesity_country = obesity.groupby('Country')['ObesityRate'].mean().reset_index()\n",
    "\n",
    "# Merge and plot\n",
    "merged = pd.merge(stress_ratio, obesity_country, on='Country')\n",
    "plt.figure(figsize=(6,4))\n",
    "sns.scatterplot(data=merged, x='StressRate', y='ObesityRate')\n",
    "plt.title(\"Obesity Rate vs Stress Prevalence (by Country)\")\n",
    "plt.xlabel(\"Proportion of Stressed Individuals\")\n",
    "plt.ylabel(\"Mean Obesity Rate\")\n",
    "plt.tight_layout()\n",
    "plt.show()\n"
   ]
  },
  {
   "cell_type": "markdown",
   "id": "6e984eba",
   "metadata": {},
   "source": [
    "## Conclusion\n",
    "- Obesity rates are slightly higher in females but not drastically different.\n",
    "- Stress is more prevalent in females.\n",
    "- Countries with higher mental stress prevalence **tend to show higher obesity rates**, supporting the hypothesis.\n",
    "\n",
    "Further studies with individual-level BMI would improve causal inference."
   ]
  }
 ],
 "metadata": {},
 "nbformat": 4,
 "nbformat_minor": 5
}
